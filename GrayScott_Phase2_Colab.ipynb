{
  "cells": [
    {
      "cell_type": "raw",
      "metadata": {
        "vscode": {
          "languageId": "raw"
        }
      },
      "source": [
        "# 🚀 Gray-Scott Phase 2: GPU加速版（Google Colab）\n",
        "\n",
        "**目標**: Phase 1 (0.565) → Phase 2 (0.65+) へのさらなる向上\n",
        "\n",
        "**主要改善点**:\n",
        "- ✅ 残差接続（ResNet）\n",
        "- ✅ 時空間注意機構\n",
        "- ✅ GPU高速化（CPU比 5-10倍）\n",
        "\n",
        "**実行時間予測**: CPU 25-30分 → **GPU 3-5分** 🏃‍♂️💨\n"
      ]
    },
    {
      "cell_type": "raw",
      "metadata": {
        "vscode": {
          "languageId": "raw"
        }
      },
      "source": [
        "## 📋 Step 1: 環境セットアップ\n"
      ]
    },
    {
      "cell_type": "code",
      "execution_count": null,
      "metadata": {},
      "outputs": [],
      "source": [
        "# GPU確認とセットアップ\n",
        "import torch\n",
        "print(f\"PyTorch version: {torch.__version__}\")\n",
        "print(f\"CUDA available: {torch.cuda.is_available()}\")\n",
        "if torch.cuda.is_available():\n",
        "    print(f\"GPU: {torch.cuda.get_device_name(0)}\")\n",
        "    print(f\"GPU Memory: {torch.cuda.get_device_properties(0).total_memory/1e9:.1f} GB\")\n",
        "else:\n",
        "    print(\"⚠️ GPU not available. Please enable GPU in Runtime > Change runtime type\")\n"
      ]
    }
  ],
  "metadata": {
    "language_info": {
      "name": "python"
    }
  },
  "nbformat": 4,
  "nbformat_minor": 2
}
