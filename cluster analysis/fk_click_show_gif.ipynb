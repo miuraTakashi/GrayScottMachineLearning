{
  "cells": [
    {
      "cell_type": "code",
      "execution_count": 6,
      "metadata": {},
      "outputs": [
        {
          "name": "stdout",
          "output_type": "stream",
          "text": [
            "Using %matplotlib widget\n"
          ]
        }
      ],
      "source": [
        "# Enable interactive backend for pick events\n",
        "# Prefer ipympl in JupyterLab; fallback to notebook; else warn\n",
        "try:\n",
        "    get_ipython().run_line_magic('matplotlib', 'widget')\n",
        "    print('Using %matplotlib widget')\n",
        "except Exception:\n",
        "    try:\n",
        "        get_ipython().run_line_magic('matplotlib', 'notebook')\n",
        "        print('Using %matplotlib notebook')\n",
        "    except Exception:\n",
        "        import matplotlib\n",
        "        print('Interactive backend not available. Current backend:', matplotlib.get_backend())\n",
        "        print('Install ipympl: pip install ipympl, then restart the kernel.')\n",
        "\n"
      ]
    },
    {
      "cell_type": "code",
      "execution_count": 7,
      "metadata": {},
      "outputs": [],
      "source": [
        "import os\n",
        "import re\n",
        "import glob\n",
        "import numpy as np\n",
        "import matplotlib.pyplot as plt\n",
        "from IPython.display import Image, display, clear_output\n",
        "import ipywidgets as widgets\n",
        "import time\n",
        "\n"
      ]
    },
    {
      "cell_type": "code",
      "execution_count": 8,
      "metadata": {},
      "outputs": [],
      "source": [
        "# Assumes these arrays are available or load from npz/csv\n",
        "# Here we try to load from the same npz created earlier\n",
        "latent = None\n",
        "f_values = None\n",
        "k_values = None\n",
        "\n",
        "npz_path = os.path.join(os.path.dirname(__file__), 'cluster_0_data.npz') if '__file__' in globals() else 'cluster_0_data.npz'\n",
        "if os.path.exists(npz_path):\n",
        "    data = np.load(npz_path)\n",
        "    f_values = data['f']\n",
        "    k_values = data['k']\n",
        "else:\n",
        "    # fallback if needed\n",
        "    f_csv = os.path.join(os.path.dirname(__file__), 'cluster_0_f_values.csv') if '__file__' in globals() else 'cluster_0_f_values.csv'\n",
        "    k_csv = os.path.join(os.path.dirname(__file__), 'cluster_0_k_values.csv') if '__file__' in globals() else 'cluster_0_k_values.csv'\n",
        "    f_values = np.loadtxt(f_csv, delimiter=',')\n",
        "    k_values = np.loadtxt(k_csv, delimiter=',')\n",
        "\n",
        "f_values = np.asarray(f_values, dtype=float).reshape(-1)\n",
        "k_values = np.asarray(k_values, dtype=float).reshape(-1)\n",
        "assert f_values.shape == k_values.shape\n",
        "\n",
        "# Prepare GIF index from directory for robust lookup\n",
        "# Match pattern: GrayScott-f0.0100-k0.0500-*.gif\n",
        "pattern_re = re.compile(r\"GrayScott-f([0-9]+\\.[0-9]+)-k([0-9]+\\.[0-9]+)-.*\\\\.gif$\")\n",
        "\n",
        "GIF_DIR = os.path.abspath(os.path.join(os.path.dirname(os.getcwd()), 'data', 'gif'))\n",
        "if not os.path.exists(GIF_DIR):\n",
        "    GIF_DIR = os.path.abspath(os.path.join(os.getcwd(), 'data', 'gif'))\n",
        "\n",
        "all_gifs = sorted(glob.glob(os.path.join(GIF_DIR, 'GrayScott-f*-k*-*.gif')))\n",
        "avail_f = []\n",
        "avail_k = []\n",
        "avail_paths = []\n",
        "for p in all_gifs:\n",
        "    m = pattern_re.search(p)\n",
        "    if not m:\n",
        "        continue\n",
        "    try:\n",
        "        f_parsed = float(m.group(1))\n",
        "        k_parsed = float(m.group(2))\n",
        "    except Exception:\n",
        "        continue\n",
        "    avail_f.append(f_parsed)\n",
        "    avail_k.append(k_parsed)\n",
        "    avail_paths.append(p)\n",
        "\n",
        "avail_f = np.asarray(avail_f, dtype=float).reshape(-1)\n",
        "avail_k = np.asarray(avail_k, dtype=float).reshape(-1)\n",
        "\n"
      ]
    },
    {
      "cell_type": "code",
      "execution_count": 9,
      "metadata": {},
      "outputs": [],
      "source": [
        "# GIF preview output box - fixed size to prevent layout shifts\n",
        "output_box = widgets.Output(layout=widgets.Layout(width='400px', height='400px', overflow='hidden', border='1px solid #ccc', flex='0 0 auto'))\n"
      ]
    },
    {
      "cell_type": "code",
      "execution_count": 10,
      "metadata": {},
      "outputs": [
        {
          "data": {
            "application/vnd.jupyter.widget-view+json": {
              "model_id": "ec807ee8eee448da923c0413ecd187f8",
              "version_major": 2,
              "version_minor": 0
            },
            "text/plain": [
              "HBox(children=(Canvas(layout=Layout(border='1px solid #ccc', flex='0 0 auto', height='450px', width='550px'), …"
            ]
          },
          "metadata": {},
          "output_type": "display_data"
        }
      ],
      "source": [
        "# Build scatter plot (f-k map) with pick events\n",
        "plt.ioff()  # Turn off automatic figure display\n",
        "fig, ax = plt.subplots(figsize=(6, 5))\n",
        "sc = ax.scatter(k_values, f_values, s=24, alpha=0.7, picker=5)\n",
        "ax.set_xlabel('k')\n",
        "ax.set_ylabel('f')\n",
        "ax.set_title('Click a point to preview GIF (data/gif)')\n",
        "ax.grid(True, alpha=0.3)\n",
        "fig.tight_layout()  # Prevent label clipping\n",
        "\n",
        "# Small epsilon to match floating-point formatted filenames\n",
        "def format_fk_for_filename(f: float, k: float) -> str:\n",
        "    # Examples: GrayScott-f0.0100-k0.0500-*.gif\n",
        "    return f\"GrayScott-f{f:.4f}-k{k:.4f}-*.gif\"\n",
        "\n",
        "# Find candidate GIFs under data/gif\n",
        "GIF_DIR = os.path.abspath(os.path.join(os.path.dirname(os.getcwd()), 'data', 'gif'))\n",
        "if not os.path.exists(GIF_DIR):\n",
        "    # fallback if running from repo root\n",
        "    GIF_DIR = os.path.abspath(os.path.join(os.getcwd(), 'data', 'gif'))\n",
        "\n",
        "print('GIF directory:', GIF_DIR)\n",
        "\n",
        "last_annotation = None\n",
        "\n",
        "# helper to find nearest available gif by rounding\n",
        "# we try the exact format first; if not found, we snap to nearest (f,k) present in filenames\n",
        "\n",
        "def find_gif_for_fk(f: float, k: float):\n",
        "    # exact match\n",
        "    pattern = format_fk_for_filename(f, k)\n",
        "    search_path = os.path.join(GIF_DIR, pattern)\n",
        "    matches = sorted(glob.glob(search_path))\n",
        "    if matches:\n",
        "        return matches[0]\n",
        "    # nearest neighbor search in available parsed list\n",
        "    if avail_f.size > 0:\n",
        "        d2 = (avail_f - f)**2 + (avail_k - k)**2\n",
        "        j = int(np.argmin(d2))\n",
        "        return avail_paths[j]\n",
        "    return None\n",
        "\n",
        "\n",
        "def on_pick(event):\n",
        "    global last_annotation\n",
        "    if last_annotation is not None:\n",
        "        last_annotation.remove()\n",
        "        last_annotation = None\n",
        "\n",
        "    ind = event.ind\n",
        "    if len(ind) == 0:\n",
        "        return\n",
        "    idx = ind[0]\n",
        "    f = float(f_values[idx])\n",
        "    k = float(k_values[idx])\n",
        "\n",
        "    # annotate clicked point\n",
        "    last_annotation = ax.annotate(f\"(f={f:.4f}, k={k:.4f})\", (k, f),\n",
        "                                  textcoords=\"offset points\", xytext=(10, 10),\n",
        "                                  bbox=dict(boxstyle='round,pad=0.3', fc='yellow', alpha=0.6))\n",
        "    fig.canvas.draw_idle()\n",
        "\n",
        "    # resolve gif path (exact or nearest)\n",
        "    gif_path = find_gif_for_fk(f, k)\n",
        "    if not gif_path or not os.path.exists(gif_path):\n",
        "        print('GIF not found near', (f, k))\n",
        "        return\n",
        "\n",
        "    print('Displaying:', gif_path)\n",
        "    # show only one output area (clears previous) - always in the same location\n",
        "    with output_box:\n",
        "        clear_output(wait=True)\n",
        "        display(Image(filename=gif_path, embed=True, width=400))\n",
        "\n",
        "\n",
        "# Size the interactive canvas to avoid overlap\n",
        "fig.canvas.layout = widgets.Layout(width='550px', height='450px', border='1px solid #ccc', flex='0 0 auto')\n",
        "\n",
        "# Display plot and GIF output side-by-side\n",
        "container = widgets.HBox(\n",
        "    [fig.canvas, output_box],\n",
        "    layout=widgets.Layout(align_items='flex-start', justify_content='flex-start', gap='12px', overflow='visible')\n",
        ")\n",
        "\n",
        "# Clear all previous outputs before displaying to prevent duplication\n",
        "clear_output(wait=False)\n",
        "display(container)\n",
        "\n",
        "cid = fig.canvas.mpl_connect('pick_event', on_pick)\n"
      ]
    },
    {
      "cell_type": "code",
      "execution_count": null,
      "metadata": {},
      "outputs": [],
      "source": []
    }
  ],
  "metadata": {
    "kernelspec": {
      "display_name": "LatestStable",
      "language": "python",
      "name": "python3"
    },
    "language_info": {
      "codemirror_mode": {
        "name": "ipython",
        "version": 3
      },
      "file_extension": ".py",
      "mimetype": "text/x-python",
      "name": "python",
      "nbconvert_exporter": "python",
      "pygments_lexer": "ipython3",
      "version": "3.11.5"
    }
  },
  "nbformat": 4,
  "nbformat_minor": 2
}
